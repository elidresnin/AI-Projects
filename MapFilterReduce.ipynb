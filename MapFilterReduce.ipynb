{
  "nbformat": 4,
  "nbformat_minor": 0,
  "metadata": {
    "colab": {
      "provenance": [],
      "authorship_tag": "ABX9TyMdddMF9IMQYi5CoC0u/k8l"
    },
    "kernelspec": {
      "name": "python3",
      "display_name": "Python 3"
    },
    "language_info": {
      "name": "python"
    }
  },
  "cells": [
    {
      "cell_type": "markdown",
      "source": [
        "# Map Function"
      ],
      "metadata": {
        "id": "zXg2nFUec6dQ"
      }
    },
    {
      "cell_type": "markdown",
      "source": [
        "Applies a function to all items in a list.\n",
        "\n",
        "\n",
        "\n",
        "```\n",
        "map(function_to_apply, list of input)\n",
        "```\n",
        "\n"
      ],
      "metadata": {
        "id": "UBB95Uj0dAF4"
      }
    },
    {
      "cell_type": "code",
      "execution_count": 5,
      "metadata": {
        "colab": {
          "base_uri": "https://localhost:8080/"
        },
        "id": "9YbsNKlxcKRC",
        "outputId": "f1fb22cc-2fc0-4b45-b54c-ed296ffc8b0d"
      },
      "outputs": [
        {
          "output_type": "stream",
          "name": "stdout",
          "text": [
            "['bob', 'loves', 'new', 'wave', 'computers']\n",
            "['bob', 'loves', 'new', 'wave', 'computers']\n"
          ]
        }
      ],
      "source": [
        "words = [\"Bob\", \"loves\", \"NEW\", \"wave\", \"comPUTers\"]\n",
        "def to_lowercase(str):\n",
        "    return str.lower()\n",
        "result = map(to_lowercase, words)\n",
        "print(list(result))\n",
        "\n",
        "lowercased_words = list(map(str.lower, words))\n",
        "print(lowercased_words)"
      ]
    },
    {
      "cell_type": "markdown",
      "source": [
        "Remove all vowels from the words in the same list."
      ],
      "metadata": {
        "id": "_9qEtkMgdsVN"
      }
    },
    {
      "cell_type": "code",
      "source": [
        "def remove_vowels(word):\n",
        "    new_word = \"\"\n",
        "    vowels = \"aeiou\"\n",
        "\n",
        "    for letter in word:\n",
        "        if not letter.lower() in vowels:\n",
        "           new_word += letter\n",
        "\n",
        "    return new_word\n",
        "\n",
        "no_vowels = list(map(remove_vowels, words))\n",
        "print(no_vowels)"
      ],
      "metadata": {
        "colab": {
          "base_uri": "https://localhost:8080/"
        },
        "id": "iget2K_Hd0r3",
        "outputId": "043f69d1-d6d8-4a30-b1ed-d234287ae8bd"
      },
      "execution_count": 39,
      "outputs": [
        {
          "output_type": "stream",
          "name": "stdout",
          "text": [
            "['Bb', 'lvs', 'NW', 'wv', 'cmPTrs']\n"
          ]
        }
      ]
    },
    {
      "cell_type": "markdown",
      "source": [
        "# Filter Function"
      ],
      "metadata": {
        "id": "hE6z7wfEgpvl"
      }
    },
    {
      "cell_type": "markdown",
      "source": [
        "Filters items out of a list. Keeps items that are true, removes ones that are false.\n",
        "\n",
        "\n",
        "\n",
        "```\n",
        "filter(function_to_apply, list of input)\n",
        "```\n",
        "\n",
        "\n",
        "\n",
        "Remove all 4 letter words from the list."
      ],
      "metadata": {
        "id": "79xMyUbJhEvN"
      }
    },
    {
      "cell_type": "code",
      "source": [
        "words = [\"Bob\", \"loves\", \"NEW\", \"wave\", \"comPUTers\"]\n",
        "print(list(filter(lambda x: len(x) != 4, words)))"
      ],
      "metadata": {
        "colab": {
          "base_uri": "https://localhost:8080/"
        },
        "id": "gzVbeu27gtzQ",
        "outputId": "74d0503d-016a-4bc6-9670-64908e39e3e1"
      },
      "execution_count": 9,
      "outputs": [
        {
          "output_type": "stream",
          "name": "stdout",
          "text": [
            "['Bob', 'loves', 'NEW', 'comPUTers']\n"
          ]
        }
      ]
    },
    {
      "cell_type": "markdown",
      "source": [
        "# Reduce Function"
      ],
      "metadata": {
        "id": "bb_Z2nHoiBq7"
      }
    },
    {
      "cell_type": "markdown",
      "source": [
        "Applies a rolling condition to sequential pairs of values. Useful for performing calculations on a list and returning a single value. Some what recursive. *Must be imported from `functools` library *\n",
        "\n",
        "```\n",
        "filter(function_to_apply, list of input)\n",
        "```\n",
        "\n",
        "Generate a list of 100 numbers from 0 to 10000 and return the maximum value without using the max function.\n"
      ],
      "metadata": {
        "id": "h792nBq8krQ9"
      }
    },
    {
      "cell_type": "code",
      "source": [
        "import random\n",
        "from functools import reduce\n",
        "\n",
        "print(reduce(lambda x, y: x if x > y else y, [random.randint(0, 10000) for x in range(100)]))"
      ],
      "metadata": {
        "colab": {
          "base_uri": "https://localhost:8080/"
        },
        "id": "dlvdOJGajJWn",
        "outputId": "96b37229-2a02-4a6b-ffa6-2818a31dc142"
      },
      "execution_count": 37,
      "outputs": [
        {
          "output_type": "stream",
          "name": "stdout",
          "text": [
            "9980\n"
          ]
        }
      ]
    }
  ]
}
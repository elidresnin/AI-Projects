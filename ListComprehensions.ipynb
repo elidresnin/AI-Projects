{
  "nbformat": 4,
  "nbformat_minor": 0,
  "metadata": {
    "colab": {
      "provenance": [],
      "authorship_tag": "ABX9TyNoNYktMouPYBR6IKoAcmvp"
    },
    "kernelspec": {
      "name": "python3",
      "display_name": "Python 3"
    },
    "language_info": {
      "name": "python"
    }
  },
  "cells": [
    {
      "cell_type": "markdown",
      "source": [
        "# List Comprehensions"
      ],
      "metadata": {
        "id": "lnOZFlf7iYvm"
      }
    },
    {
      "cell_type": "markdown",
      "source": [
        "List Comprehensions offer a shorter syntax for creating a new list based on an existing one.\n",
        "\n",
        "\n",
        "\n",
        "```\n",
        "new_list = [transform sequence [filter]]\n",
        "```\n",
        "\n",
        "\n",
        "\n",
        "```\n",
        "new_list = [expression for item in interable if condition == true]\n",
        "```\n",
        "\n",
        "\n",
        "\n"
      ],
      "metadata": {
        "id": "N4zf1pEnifN2"
      }
    },
    {
      "cell_type": "markdown",
      "source": [
        "This is how you would find only fruits with an a in them using a for loop."
      ],
      "metadata": {
        "id": "WAajn5xNjli5"
      }
    },
    {
      "cell_type": "code",
      "execution_count": 1,
      "metadata": {
        "colab": {
          "base_uri": "https://localhost:8080/"
        },
        "id": "FD7_ZKLbiUCd",
        "outputId": "57cd2d71-ef3c-47c7-8779-12220901c6c9"
      },
      "outputs": [
        {
          "output_type": "stream",
          "name": "stdout",
          "text": [
            "['apple', 'banana', 'mango']\n"
          ]
        }
      ],
      "source": [
        "# using a for loop\n",
        "fruits = [\"apple\", \"banana\", \"cherry\", \"kiwi\", \"mango\"]\n",
        "newlist = []\n",
        "\n",
        "for x in fruits:\n",
        "  if \"a\" in x:\n",
        "    newlist.append(x)\n",
        "\n",
        "print(newlist)"
      ]
    },
    {
      "cell_type": "markdown",
      "source": [
        "This is how you would do it using a list comprehension."
      ],
      "metadata": {
        "id": "l-z-VJH1jtzB"
      }
    },
    {
      "cell_type": "code",
      "source": [
        "fruits = [\"apple\", \"banana\", \"cherry\", \"kiwi\", \"mango\"]\n",
        "\n",
        "newlist = [x for x in fruits if \"a\" in x]\n",
        "\n",
        "print(newlist)"
      ],
      "metadata": {
        "colab": {
          "base_uri": "https://localhost:8080/"
        },
        "id": "mJ_CbMUbj8S3",
        "outputId": "50dbfc07-5a7e-4f57-8eb4-336ec7802976"
      },
      "execution_count": 2,
      "outputs": [
        {
          "output_type": "stream",
          "name": "stdout",
          "text": [
            "['apple', 'banana', 'mango']\n"
          ]
        }
      ]
    },
    {
      "cell_type": "markdown",
      "source": [
        "The expression is current item in the iteration but also the outcome, which you can manipulate. This makes all items uppercase."
      ],
      "metadata": {
        "id": "uPVUimUxkQXM"
      }
    },
    {
      "cell_type": "code",
      "source": [
        "newlist = [x.upper() for x in fruits]\n",
        "print(newlist)"
      ],
      "metadata": {
        "colab": {
          "base_uri": "https://localhost:8080/"
        },
        "id": "KBIXzZACkhHI",
        "outputId": "4abf8ef4-eb59-408e-d2c6-019f69a0ac8b"
      },
      "execution_count": 3,
      "outputs": [
        {
          "output_type": "stream",
          "name": "stdout",
          "text": [
            "['APPLE', 'BANANA', 'CHERRY', 'KIWI', 'MANGO']\n"
          ]
        }
      ]
    },
    {
      "cell_type": "markdown",
      "source": [
        "The iterable can be any iterable object such as a list, tuple, set, etc. Use the range function to create an iterable."
      ],
      "metadata": {
        "id": "PTMlgvr2ktEP"
      }
    },
    {
      "cell_type": "code",
      "source": [
        "newlist = [x for x in range(10)]\n",
        "print(newlist)"
      ],
      "metadata": {
        "colab": {
          "base_uri": "https://localhost:8080/"
        },
        "id": "hB0UOthUlLeT",
        "outputId": "ac36f3d5-c19f-428c-a832-f394036dc06a"
      },
      "execution_count": 4,
      "outputs": [
        {
          "output_type": "stream",
          "name": "stdout",
          "text": [
            "[0, 1, 2, 3, 4, 5, 6, 7, 8, 9]\n"
          ]
        }
      ]
    },
    {
      "cell_type": "markdown",
      "source": [
        "The condition is like a filter that only adds items if true."
      ],
      "metadata": {
        "id": "N0JgCVHnlPUc"
      }
    },
    {
      "cell_type": "code",
      "source": [
        "newlist = [x for x in fruits if x != \"apple\"]\n",
        "print(newlist)"
      ],
      "metadata": {
        "colab": {
          "base_uri": "https://localhost:8080/"
        },
        "id": "eGO4y2ELlbwP",
        "outputId": "5b2512b5-7785-4a39-ebc0-338d15bd5b4c"
      },
      "execution_count": 5,
      "outputs": [
        {
          "output_type": "stream",
          "name": "stdout",
          "text": [
            "['banana', 'cherry', 'kiwi', 'mango']\n"
          ]
        }
      ]
    }
  ]
}
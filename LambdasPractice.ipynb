{
  "nbformat": 4,
  "nbformat_minor": 0,
  "metadata": {
    "colab": {
      "provenance": [],
      "authorship_tag": "ABX9TyOIL5sP3leFoliQ0C/niMQ8"
    },
    "kernelspec": {
      "name": "python3",
      "display_name": "Python 3"
    },
    "language_info": {
      "name": "python"
    }
  },
  "cells": [
    {
      "cell_type": "markdown",
      "source": [
        "# Lambdas\n",
        "\n",
        "Lambdas are like closures in Swift. Annoymous, single use, or throwaway functions\n",
        "---\n",
        "\n",
        "```\n",
        "lambda argument : expression\n",
        "```\n"
      ],
      "metadata": {
        "id": "5mnfD9E5VQdt"
      }
    },
    {
      "cell_type": "code",
      "execution_count": 2,
      "metadata": {
        "id": "FnoYo3StSUBH"
      },
      "outputs": [],
      "source": [
        "# write the lambda average that is passed two numbers and returns the average.\n",
        "\n",
        "average = lambda num1, num2 : (num1 + num2)/2\n",
        "print(average(10, 20))"
      ]
    },
    {
      "cell_type": "markdown",
      "source": [
        "Write a lambda that is passed 2 numbers and returns the greater of the 2 numbers\n",
        "\n",
        "- use a turnery operator\n",
        "\n",
        "```\n",
        "a if condition else b\n",
        "```\n",
        "\n"
      ],
      "metadata": {
        "id": "m7iyRcKRWsQ4"
      }
    },
    {
      "cell_type": "code",
      "source": [
        "maximum = lambda num1, num2 : num1 if num1 > num2 else num2\n",
        "\n",
        "print(maximum(1, 100))"
      ],
      "metadata": {
        "colab": {
          "base_uri": "https://localhost:8080/"
        },
        "id": "H2qLX4hAXAzE",
        "outputId": "9df68f50-be26-47f8-8b44-c05029c315ac"
      },
      "execution_count": 6,
      "outputs": [
        {
          "output_type": "stream",
          "name": "stdout",
          "text": [
            "100\n"
          ]
        }
      ]
    },
    {
      "cell_type": "markdown",
      "source": [
        "Write a lambda named maximum that is passed two 'strings' will return the string with the longest length.\n",
        "\n",
        "Syntax: len(thing)"
      ],
      "metadata": {
        "id": "l8kv5l2SXkx7"
      }
    },
    {
      "cell_type": "code",
      "source": [
        "maximum = lambda str1, str2 : str1 if len(str1) > len(str2) else str2\n",
        "\n",
        "print(maximum(\"eli\", \"kevin\"))"
      ],
      "metadata": {
        "colab": {
          "base_uri": "https://localhost:8080/"
        },
        "id": "U8ynlAK_X6-d",
        "outputId": "78874af4-7f54-41e0-88d8-2c9efb30495c"
      },
      "execution_count": 5,
      "outputs": [
        {
          "output_type": "stream",
          "name": "stdout",
          "text": [
            "kevin\n"
          ]
        }
      ]
    },
    {
      "cell_type": "markdown",
      "source": [
        "# Sort and Sorted"
      ],
      "metadata": {
        "id": "uisYFKpzY0zi"
      }
    },
    {
      "cell_type": "code",
      "source": [
        "players = [(\"Hurts\", 1, 50000000), (\"Barkley\", 26, 15000000), (\"Eliot\", 4, 5000000)]\n",
        "\n",
        "# sort by number\n",
        "players.sort(key = lambda player : player[1])\n",
        "\n",
        "print(players)\n",
        "\n",
        "# sort by salary\n",
        "players.sort(key = lambda player : player[2])\n",
        "\n",
        "print(players)\n",
        "\n",
        "# sort by salary reversed\n",
        "players.sort(key = lambda player : player[2], reverse = True)\n",
        "\n",
        "print(players)\n",
        "\n",
        "# sort in reverse order based on their name\n",
        "players.sort(key = lambda player : len(player[0]), reverse = True)\n",
        "\n",
        "print(players)"
      ],
      "metadata": {
        "colab": {
          "base_uri": "https://localhost:8080/"
        },
        "id": "JD83rv4pZFAw",
        "outputId": "83eacc7e-29f5-49a1-c67c-1f4bf85ac158"
      },
      "execution_count": 15,
      "outputs": [
        {
          "output_type": "stream",
          "name": "stdout",
          "text": [
            "[('Hurts', 1, 50000000), ('Eliot', 4, 5000000), ('Barkley', 26, 15000000)]\n",
            "[('Eliot', 4, 5000000), ('Barkley', 26, 15000000), ('Hurts', 1, 50000000)]\n",
            "[('Hurts', 1, 50000000), ('Barkley', 26, 15000000), ('Eliot', 4, 5000000)]\n",
            "[('Barkley', 26, 15000000), ('Hurts', 1, 50000000), ('Eliot', 4, 5000000)]\n"
          ]
        }
      ]
    }
  ]
}
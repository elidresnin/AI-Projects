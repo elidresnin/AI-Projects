{
  "nbformat": 4,
  "nbformat_minor": 0,
  "metadata": {
    "colab": {
      "provenance": [],
      "authorship_tag": "ABX9TyO2a8+ztS9sZw0XNf5C137x",
      "include_colab_link": true
    },
    "kernelspec": {
      "name": "python3",
      "display_name": "Python 3"
    },
    "language_info": {
      "name": "python"
    }
  },
  "cells": [
    {
      "cell_type": "markdown",
      "metadata": {
        "id": "view-in-github",
        "colab_type": "text"
      },
      "source": [
        "<a href=\"https://colab.research.google.com/github/elidresnin/AI-Projects/blob/main/NewWaveArcade.ipynb\" target=\"_parent\"><img src=\"https://colab.research.google.com/assets/colab-badge.svg\" alt=\"Open In Colab\"/></a>"
      ]
    },
    {
      "cell_type": "markdown",
      "source": [
        "**New Wave Arcade**\n",
        "\n",
        "New Wave Computers has set up an arcade to supplement their income. Help New Wave Computers out by writing functions that complete the tasks that are listed below. Write a main function that asks the user to enter information for each function and then call and print the results of each of these function calls.\n",
        "\n",
        "---\n",
        "\n"
      ],
      "metadata": {
        "id": "hPqVB1Zcmz24"
      }
    },
    {
      "cell_type": "markdown",
      "source": [
        "1. **Dolphin Olympics 2** is an exciting aquatic game that invites you to score as many points as possible in two minutes. The goal is to swim and flip your dolphin. All you have to do is drive the mammal to stellar jumps by building speed and pulling bigger and better tricks. You are to write the function `highScore`, which will be used to list high scores at the end of the game. This function should be passed three integer values and return the highest of these three scores.\n"
      ],
      "metadata": {
        "id": "Mw4gAc8CftI8"
      }
    },
    {
      "cell_type": "code",
      "execution_count": null,
      "metadata": {
        "colab": {
          "base_uri": "https://localhost:8080/"
        },
        "id": "OtwInw2We4pD",
        "outputId": "c905138b-0146-4265-83a3-128686e71546"
      },
      "outputs": [
        {
          "output_type": "stream",
          "name": "stdout",
          "text": [
            "3\n"
          ]
        }
      ],
      "source": [
        "a = 1\n",
        "b = 2\n",
        "c = 3\n",
        "\n",
        "def highScore():\n",
        "    if a > b & a > c:\n",
        "        print(a)\n",
        "    elif b > a & b > c:\n",
        "        print(b)\n",
        "    else:\n",
        "        print(c)\n",
        "\n",
        "highScore()"
      ]
    },
    {
      "cell_type": "markdown",
      "source": [
        "2. **New Wave Computers** occasionally has to close when there is bad weather. Write the function `isClosed`. This function should be passed the boolean `isRaining` and the double `temperature`. The function should return `true` if `isRaining` is true and `temperature` is below 65 or above if `temperature` is above 95, otherwise it should return `false`."
      ],
      "metadata": {
        "id": "r0jWLy4Pf3wH"
      }
    },
    {
      "cell_type": "code",
      "source": [
        "isRaining = True\n",
        "temperature = 70\n",
        "\n",
        "def isClosed():\n",
        "    if isRaining == True and temperature < 65 or temperature > 95:\n",
        "        print(True)\n",
        "    else:\n",
        "        print(False)\n",
        "\n",
        "isClosed()"
      ],
      "metadata": {
        "colab": {
          "base_uri": "https://localhost:8080/"
        },
        "id": "aD23XspLgJSh",
        "outputId": "808bc6f5-aa98-4a15-9c4d-2b10b854d878"
      },
      "execution_count": null,
      "outputs": [
        {
          "output_type": "stream",
          "name": "stdout",
          "text": [
            "False\n"
          ]
        }
      ]
    },
    {
      "cell_type": "markdown",
      "source": [
        "3. New Wave Computers has a difficult time attracting customers during the work week. In order to attract patrons between Monday and Thursday they have decided to multiply their prize tickets on these days. Write the function multiply. This function should be passed integer tickets and String day. Return the new amount of tickets using the following multipliers:\n",
        "\n",
        "\n",
        "| day | multiplier |\n",
        "|---|:---:|\n",
        "| Monday | 2 |\n",
        "| Tuesday | 3 |\n",
        "| Wednesday | 2.1 |\n",
        "| Thursday | 2.5 |\n",
        "|Friday, Saturday or Sunday| 1|\n",
        "\n"
      ],
      "metadata": {
        "id": "nv8P2k7ngiuG"
      }
    },
    {
      "cell_type": "code",
      "source": [
        "tickets = 10\n",
        "day = \"Monday\"\n",
        "\n",
        "def multiply():\n",
        "    if day == \"Monday\":\n",
        "        print(tickets * 2)\n",
        "    elif day == \"Tuesday\":\n",
        "        print(tickets * 3)\n",
        "    elif day == \"Wednesday\":\n",
        "        print(tickets * 2.1)\n",
        "    elif day == \"Thursday\":\n",
        "        print(tickets * 2.5)\n",
        "    else:\n",
        "        print(tickets)\n",
        "\n",
        "multiply()"
      ],
      "metadata": {
        "colab": {
          "base_uri": "https://localhost:8080/"
        },
        "id": "REZlpmeGg5JA",
        "outputId": "90e3f7af-e48f-4657-fb73-77c67f897632"
      },
      "execution_count": null,
      "outputs": [
        {
          "output_type": "stream",
          "name": "stdout",
          "text": [
            "20\n"
          ]
        }
      ]
    },
    {
      "cell_type": "markdown",
      "source": [
        "4. In the game New Wave Racing a car randomly moves forward between one and five at a time until it has reached the finish line, which is 50 spaces away. Write the function `racing`, which should simulate the number of turns that it would take to reach the finish line. The function should return the number of turns that it took for the car to reach the finish line. You can generate a random number between 1 and 5 using the code `(int)(Math.random() * 5) + 1`."
      ],
      "metadata": {
        "id": "cQZm7uDDiRXj"
      }
    },
    {
      "cell_type": "code",
      "source": [
        "import random\n",
        "def racing():\n",
        "    postion = 0\n",
        "    turns = 0\n",
        "    while postion < 50:\n",
        "        postion += random.randint(1, 5)\n",
        "        turns += 1\n",
        "    print(turns)\n",
        "\n",
        "racing()"
      ],
      "metadata": {
        "colab": {
          "base_uri": "https://localhost:8080/"
        },
        "id": "OJ2yoncEibSh",
        "outputId": "bca15cb5-8180-4e7c-b742-b5afb5cf6498"
      },
      "execution_count": null,
      "outputs": [
        {
          "output_type": "stream",
          "name": "stdout",
          "text": [
            "19\n"
          ]
        }
      ]
    },
    {
      "cell_type": "markdown",
      "source": [
        "5. In the game of knock down a contestant is given three chances to throw a baseball at five pins. In order to win the game, competitors need to knock down all five pins with their three attempts. Write the function knockdown. This function should use a for loop and Math.random() to determine if the user was able to knock down all five pins. A throw should knock down no pins if a number between 0 and 3 is generated, one pin if a number between 4 and 6 is generated, two pins if 7 or 8 is generated, three pins if it a 9 is generated and four pins if a 10 is generated. Return true if all five pins are knocked down, otherwise return false."
      ],
      "metadata": {
        "id": "DbvW_f82kBVf"
      }
    },
    {
      "cell_type": "code",
      "source": [
        "def knockdown() -> bool:\n",
        "    pins_standing = 5\n",
        "    for i in range(3):\n",
        "        throw = random.randint(0, 10)\n",
        "        if throw <= 3:\n",
        "            pins_standing -= 0\n",
        "\n",
        "        elif throw <= 6:\n",
        "            pins_standing -= 1\n",
        "\n",
        "        elif throw <= 8:\n",
        "            pins_standing -= 2\n",
        "    if pins_standing == 0:\n",
        "        return(True)\n",
        "    else:\n",
        "        return(False)\n",
        "\n",
        "print(knockdown())\n"
      ],
      "metadata": {
        "colab": {
          "base_uri": "https://localhost:8080/"
        },
        "id": "204-uh0WkEDK",
        "outputId": "779a3121-d8b6-440c-ca21-7f2a502f563c"
      },
      "execution_count": null,
      "outputs": [
        {
          "output_type": "stream",
          "name": "stdout",
          "text": [
            "False\n"
          ]
        }
      ]
    }
  ]
}
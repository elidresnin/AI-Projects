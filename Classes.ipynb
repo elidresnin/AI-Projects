{
  "nbformat": 4,
  "nbformat_minor": 0,
  "metadata": {
    "colab": {
      "provenance": [],
      "authorship_tag": "ABX9TyOZcoAeYPmGbfpGQDzoTE+1"
    },
    "kernelspec": {
      "name": "python3",
      "display_name": "Python 3"
    },
    "language_info": {
      "name": "python"
    }
  },
  "cells": [
    {
      "cell_type": "markdown",
      "source": [
        "# Classes\n",
        "\n"
      ],
      "metadata": {
        "id": "ij7jPaWlqZv7"
      }
    },
    {
      "cell_type": "markdown",
      "source": [
        "To create a class, use the keyword `class`. Use a colon to start the class body, pay attention to indenting."
      ],
      "metadata": {
        "id": "U4n3EcPW63_s"
      }
    },
    {
      "cell_type": "code",
      "source": [
        "class MyClass:\n",
        "    x = 5"
      ],
      "metadata": {
        "id": "r6DGXI9F7eXJ"
      },
      "execution_count": 1,
      "outputs": []
    },
    {
      "cell_type": "markdown",
      "source": [
        " To create an instance of the class, call the class like every other langauge. variables are globally accessible without accessor functions."
      ],
      "metadata": {
        "id": "7gCeoE4v7xwk"
      }
    },
    {
      "cell_type": "code",
      "source": [
        "p1 = MyClass()\n",
        "print(p1.x)"
      ],
      "metadata": {
        "colab": {
          "base_uri": "https://localhost:8080/"
        },
        "id": "y50go4aY72uf",
        "outputId": "7f11b78f-1cdb-4e78-fb41-9cc9b2f3d67c"
      },
      "execution_count": 2,
      "outputs": [
        {
          "output_type": "stream",
          "name": "stdout",
          "text": [
            "5\n"
          ]
        }
      ]
    },
    {
      "cell_type": "markdown",
      "source": [
        "#The `__init__` Function"
      ],
      "metadata": {
        "id": "zmxFnozY8XTq"
      }
    },
    {
      "cell_type": "markdown",
      "source": [
        "All classes have an initilizer called `__init__`. It is both the default and packed constructer. Use it to declare all instance variables or computed properites. Do not declare any properity of the class in the class body, declare them in this function instead.\n",
        "\n",
        "\n",
        "\n"
      ],
      "metadata": {
        "id": "zH8U86YA8l1E"
      }
    },
    {
      "cell_type": "code",
      "source": [
        "class Person:\n",
        "    def __init__(self, name, age):\n",
        "        self.name = name\n",
        "        self.age = age\n",
        "\n",
        "p1 = Person(\"John\", 36)\n",
        "\n",
        "print(p1.name)\n",
        "print(p1.age)"
      ],
      "metadata": {
        "colab": {
          "base_uri": "https://localhost:8080/"
        },
        "id": "ze_eAj8y9QhW",
        "outputId": "79b82e9a-88e1-4ee8-e355-7599e728bd21"
      },
      "execution_count": 3,
      "outputs": [
        {
          "output_type": "stream",
          "name": "stdout",
          "text": [
            "John\n",
            "36\n"
          ]
        }
      ]
    },
    {
      "cell_type": "markdown",
      "source": [
        "# Object Methods"
      ],
      "metadata": {
        "id": "R6RfQKiM9eNH"
      }
    },
    {
      "cell_type": "markdown",
      "source": [
        "Objects can have methods, and they belong to the class."
      ],
      "metadata": {
        "id": "Q5mVZKh39mtI"
      }
    },
    {
      "cell_type": "code",
      "source": [
        "class Person:\n",
        "    def __init__(self, name, age):\n",
        "        self.name = name\n",
        "        self.age = age\n",
        "\n",
        "    def myfunc(self):\n",
        "        return(\"Hello my name is \" + self.name)\n",
        "\n",
        "p1 = Person(\"John\", 36)\n",
        "print(p1.myfunc())"
      ],
      "metadata": {
        "colab": {
          "base_uri": "https://localhost:8080/"
        },
        "id": "QjWOqBLi9xwc",
        "outputId": "24b13453-2865-4f9f-f213-13faa35b1ce9"
      },
      "execution_count": 4,
      "outputs": [
        {
          "output_type": "stream",
          "name": "stdout",
          "text": [
            "Hello my name is John\n"
          ]
        }
      ]
    }
  ]
}
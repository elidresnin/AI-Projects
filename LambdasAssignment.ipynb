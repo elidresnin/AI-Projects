{
  "nbformat": 4,
  "nbformat_minor": 0,
  "metadata": {
    "colab": {
      "provenance": [],
      "authorship_tag": "ABX9TyOjaEsG644nnNZO67KV98/c",
      "include_colab_link": true
    },
    "kernelspec": {
      "name": "python3",
      "display_name": "Python 3"
    },
    "language_info": {
      "name": "python"
    }
  },
  "cells": [
    {
      "cell_type": "markdown",
      "metadata": {
        "id": "view-in-github",
        "colab_type": "text"
      },
      "source": [
        "<a href=\"https://colab.research.google.com/github/elidresnin/AI-Projects/blob/main/LambdasAssignment.ipynb\" target=\"_parent\"><img src=\"https://colab.research.google.com/assets/colab-badge.svg\" alt=\"Open In Colab\"/></a>"
      ]
    },
    {
      "cell_type": "markdown",
      "source": [
        "# Lambdas Assignment"
      ],
      "metadata": {
        "id": "53c0CVMkbK4-"
      }
    },
    {
      "cell_type": "markdown",
      "source": [
        "1. Write the lambda average. This lambda should be passed three values and return their average.\n"
      ],
      "metadata": {
        "id": "WvIOLBSdbTkq"
      }
    },
    {
      "cell_type": "code",
      "execution_count": 1,
      "metadata": {
        "colab": {
          "base_uri": "https://localhost:8080/"
        },
        "id": "USBX0ZHcbEhA",
        "outputId": "a1ee0632-d752-497e-f656-534b80e29cc2"
      },
      "outputs": [
        {
          "output_type": "stream",
          "name": "stdout",
          "text": [
            "37.0\n"
          ]
        }
      ],
      "source": [
        "average = lambda num1, num2, num3 : (num1 + num2 + num3)/3\n",
        "\n",
        "print(average(1, 10, 100))"
      ]
    },
    {
      "cell_type": "markdown",
      "source": [
        "2. Write the lambda max. This lambda should be passed two values and return the greater of the two."
      ],
      "metadata": {
        "id": "Ov22qJEObmJv"
      }
    },
    {
      "cell_type": "code",
      "source": [
        "maximum = lambda num1, num2 : num1 if num1 > num2 else num2\n",
        "\n",
        "print(maximum(1, 100))"
      ],
      "metadata": {
        "id": "eLHG2D23bo1E"
      },
      "execution_count": null,
      "outputs": []
    },
    {
      "cell_type": "markdown",
      "source": [
        "3. Write the lambda even. This lambda should be passed a number and return true if the parameter is even and false if it’s not."
      ],
      "metadata": {
        "id": "hxQwAKohbvUs"
      }
    },
    {
      "cell_type": "code",
      "source": [
        "even = lambda num1 : True if num1 % 2 == 0 else False\n",
        "\n",
        "print(even(15))"
      ],
      "metadata": {
        "colab": {
          "base_uri": "https://localhost:8080/"
        },
        "id": "JoWJwlGec7k4",
        "outputId": "7a19c385-0da5-463b-aaf9-584e53a3b1fa"
      },
      "execution_count": 3,
      "outputs": [
        {
          "output_type": "stream",
          "name": "stdout",
          "text": [
            "False\n"
          ]
        }
      ]
    },
    {
      "cell_type": "markdown",
      "source": [
        "4. The dictionary cars contains a collection of cars and their average MPG:\n",
        "Sort the dictionary in descending order based on each car’s MPG."
      ],
      "metadata": {
        "id": "6cokYp0Ldeh3"
      }
    },
    {
      "cell_type": "code",
      "source": [
        "cars = {\n",
        "\"Bronco\": 18.7,\n",
        "\"Tacoma\": 21,\n",
        "\"Wrangler\": 15,\n",
        "\"F-350\": 2\n",
        "}\n",
        "\n",
        "print(sorted(cars.items(), key = lambda item : item[1], reverse = True))"
      ],
      "metadata": {
        "colab": {
          "base_uri": "https://localhost:8080/"
        },
        "id": "6CWIvacbdnxy",
        "outputId": "a2115d75-67cd-452e-ca31-4086b96f3f02"
      },
      "execution_count": 5,
      "outputs": [
        {
          "output_type": "stream",
          "name": "stdout",
          "text": [
            "[('Tacoma', 21), ('Bronco', 18.7), ('Wrangler', 15), ('F-350', 2)]\n"
          ]
        }
      ]
    },
    {
      "cell_type": "markdown",
      "source": [
        "5. The list of dictionaries states is shown below.\n",
        "Sort the dictionaries alphabetically by their abbreviation."
      ],
      "metadata": {
        "id": "PErqAmVLfL8K"
      }
    },
    {
      "cell_type": "code",
      "source": [
        "states = [\n",
        "{'state': 'Pennsylvania', 'abbreviation': 'PA', 'population': 12800000},\n",
        "{'state': 'New Jersey', 'abbreviation': 'NJ', 'population': 8882000},\n",
        "{'state': 'Maryland', 'abbreviation': 'MD', 'population': 6046000}\n",
        "]\n",
        "states.sort(key = lambda item : item['abbreviation'])\n",
        "print(states)"
      ],
      "metadata": {
        "colab": {
          "base_uri": "https://localhost:8080/"
        },
        "id": "EuUDZ8NBfS0H",
        "outputId": "144f3fd1-575c-4655-e270-2f5f1aac688e"
      },
      "execution_count": 8,
      "outputs": [
        {
          "output_type": "stream",
          "name": "stdout",
          "text": [
            "[{'state': 'Maryland', 'abbreviation': 'MD', 'population': 6046000}, {'state': 'New Jersey', 'abbreviation': 'NJ', 'population': 8882000}, {'state': 'Pennsylvania', 'abbreviation': 'PA', 'population': 12800000}]\n"
          ]
        }
      ]
    },
    {
      "cell_type": "markdown",
      "source": [
        "6. The list of dictionaries states is shown below: Sort the dictionaries in descending order based on the length of their name.\n",
        "\n",
        "\n",
        "\n"
      ],
      "metadata": {
        "id": "WpJPgzKEgrCI"
      }
    },
    {
      "cell_type": "code",
      "source": [
        "states = [\n",
        "{'state': 'Pennsylvania', 'abbreviation': 'PA', 'population': 12800000},\n",
        "{'state': 'New Jersey', 'abbreviation': 'NJ', 'population': 8882000},\n",
        "{'state': 'Maryland', 'abbreviation': 'MD', 'population': 6046000}\n",
        "]\n",
        "states.sort(key = lambda item : len(item['state']), reverse = True)\n",
        "print(states)"
      ],
      "metadata": {
        "colab": {
          "base_uri": "https://localhost:8080/"
        },
        "id": "5n90hQt3gx58",
        "outputId": "a5f8470f-227d-462c-b2c9-a614103d55b8"
      },
      "execution_count": 10,
      "outputs": [
        {
          "output_type": "stream",
          "name": "stdout",
          "text": [
            "[{'state': 'Pennsylvania', 'abbreviation': 'PA', 'population': 12800000}, {'state': 'New Jersey', 'abbreviation': 'NJ', 'population': 8882000}, {'state': 'Maryland', 'abbreviation': 'MD', 'population': 6046000}]\n"
          ]
        }
      ]
    },
    {
      "cell_type": "markdown",
      "source": [
        "7. The list of tuples states is shown below: Sort the tuples in ascending order based on their population."
      ],
      "metadata": {
        "id": "iRb4DfDChCm-"
      }
    },
    {
      "cell_type": "code",
      "source": [
        "states = [\n",
        "('Pennsylvania', 'PA', 12800000),\n",
        "('New Jersey', 'NJ', 8882000),\n",
        "('Maryland', 'MD', 6046000)\n",
        "]\n",
        "states.sort(key = lambda item : item[2])\n",
        "print(states)"
      ],
      "metadata": {
        "colab": {
          "base_uri": "https://localhost:8080/"
        },
        "id": "tOfakXMVhIZR",
        "outputId": "9dcf3c29-48e7-43db-8401-a4e74e243684"
      },
      "execution_count": 11,
      "outputs": [
        {
          "output_type": "stream",
          "name": "stdout",
          "text": [
            "[('Maryland', 'MD', 6046000), ('New Jersey', 'NJ', 8882000), ('Pennsylvania', 'PA', 12800000)]\n"
          ]
        }
      ]
    }
  ]
}
{
  "nbformat": 4,
  "nbformat_minor": 0,
  "metadata": {
    "colab": {
      "provenance": [],
      "authorship_tag": "ABX9TyPpCvSHgAv/jAHWMa2bvWjh"
    },
    "kernelspec": {
      "name": "python3",
      "display_name": "Python 3"
    },
    "language_info": {
      "name": "python"
    }
  },
  "cells": [
    {
      "cell_type": "markdown",
      "source": [
        "This Notebook contains examples of Python Code."
      ],
      "metadata": {
        "id": "djyYIKPBcHey"
      }
    },
    {
      "cell_type": "code",
      "execution_count": null,
      "metadata": {
        "id": "1BXVg2O2bt-B"
      },
      "outputs": [],
      "source": [
        "# declaring variables\n",
        "number = 5\n",
        "number2 = 5.0\n",
        "number3 = 6.0\n"
      ]
    },
    {
      "cell_type": "code",
      "source": [
        "print(number + number2 + number3)"
      ],
      "metadata": {
        "colab": {
          "base_uri": "https://localhost:8080/"
        },
        "id": "1zZiLsNmcONG",
        "outputId": "2a49114b-81fc-4770-e2ab-69b27554ec16"
      },
      "execution_count": null,
      "outputs": [
        {
          "output_type": "stream",
          "name": "stdout",
          "text": [
            "1011.0\n"
          ]
        }
      ]
    },
    {
      "cell_type": "markdown",
      "source": [
        "Loops\n"
      ],
      "metadata": {
        "id": "lDedGmgLc0fw"
      }
    },
    {
      "cell_type": "code",
      "source": [
        "for i in range(10):\n",
        "  print(i)\n"
      ],
      "metadata": {
        "colab": {
          "base_uri": "https://localhost:8080/"
        },
        "id": "7fiwbHPxc9Vo",
        "outputId": "e870f8ce-fba2-42ba-ca77-0bb569f5e5e9"
      },
      "execution_count": null,
      "outputs": [
        {
          "output_type": "stream",
          "name": "stdout",
          "text": [
            "-2\n",
            "0\n",
            "2\n",
            "4\n"
          ]
        }
      ]
    },
    {
      "cell_type": "markdown",
      "source": [
        "can use a variable"
      ],
      "metadata": {
        "id": "eHn-3-BSddR6"
      }
    },
    {
      "cell_type": "code",
      "source": [
        "for i in range(number):\n",
        "  print(i)"
      ],
      "metadata": {
        "colab": {
          "base_uri": "https://localhost:8080/"
        },
        "id": "mxhzsFXxdQnQ",
        "outputId": "c4b7d80c-01be-4eaa-c94a-19553f1db687"
      },
      "execution_count": null,
      "outputs": [
        {
          "output_type": "stream",
          "name": "stdout",
          "text": [
            "0\n",
            "1\n",
            "2\n",
            "3\n",
            "4\n"
          ]
        }
      ]
    },
    {
      "cell_type": "markdown",
      "source": [
        "Range(Start, stop, increment)"
      ],
      "metadata": {
        "id": "m1_3O3PpdkVc"
      }
    },
    {
      "cell_type": "code",
      "source": [
        "for i in range(-2, number, 2):\n",
        "  print(i)"
      ],
      "metadata": {
        "id": "R71jQO25dWV4"
      },
      "execution_count": null,
      "outputs": []
    },
    {
      "cell_type": "markdown",
      "source": [
        "Function"
      ],
      "metadata": {
        "id": "iCnMpNN0dp6d"
      }
    },
    {
      "cell_type": "code",
      "source": [
        "#declare a list of numbers and then print all numbers in the list that are even\n",
        "\n",
        "numbers = [1, 2, 3, 4, 5]\n",
        "def print_even_numbers(numbers):\n",
        "  for number in numbers:\n",
        "    if number % 2 == 0:\n",
        "      print(number)\n",
        "\n",
        "print_even_numbers(numbers)\n"
      ],
      "metadata": {
        "colab": {
          "base_uri": "https://localhost:8080/"
        },
        "id": "nvlxBN0fduY7",
        "outputId": "5c502def-bf51-4a22-c1b1-607de28e3c5c"
      },
      "execution_count": null,
      "outputs": [
        {
          "output_type": "stream",
          "name": "stdout",
          "text": [
            "2\n",
            "4\n"
          ]
        }
      ]
    }
  ]
}